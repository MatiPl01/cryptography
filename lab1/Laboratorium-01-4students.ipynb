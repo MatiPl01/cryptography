{
 "cells": [
  {
   "cell_type": "markdown",
   "metadata": {},
   "source": [
    "# Kryptografia klasyczna (od starożytności do czasów współczesnych)\n",
    "### Literatura:\n",
    "1. Księga szyfrów, Simon Singh, Świat książki, 2001\n",
    "2. Łamacze kodów, David Kahn, WNT, 2004"
   ]
  },
  {
   "cell_type": "markdown",
   "metadata": {},
   "source": [
    "## Szyfr Cezara\n",
    "\n",
    "--------------\n",
    "Szyfr Cezara oczywiście nie zawdzięcza swego istnienia Juliuszowi Cezarowi. Został przezeń jedynie wspomniany w pamiętnikach o wojnach galijskich. Prawdopodobnie była to dobrze znana metoda w tym czasie."
   ]
  },
  {
   "cell_type": "code",
   "execution_count": 342,
   "metadata": {},
   "outputs": [
    {
     "name": "stdout",
     "output_type": "stream",
     "text": [
      "Tekst jawny:  Zorro fly zealotry zipper\n",
      "Szyfrogram:  odggduanotpadignoxeetg (spacje usunięte)\n",
      "Odszyfrowana wiadomość:  zorroflyzealotryzipper (spacje usunięte)\n"
     ]
    }
   ],
   "source": [
    "# Alfabet jawny i szyfrowy \n",
    "alphabets = ['a','b', 'c', 'd', 'e', 'f', 'g', 'h', 'i', 'j', 'k', 'l', 'm', 'n', 'o', 'p',\n",
    "            'q', 'r', 's', 't', 'u', 'v', 'w', 'x', 'y', 'z']\n",
    "\n",
    "alphabet_size = 26\n",
    "\n",
    "plaintext = \"Zorro fly zealotry zipper\"\n",
    "\n",
    "ciphertext = \"\"\n",
    "\n",
    "key = 15 #przesunięcie permutacji czyli klucz szyfrowania \n",
    "\n",
    "print(\"Tekst jawny: \", plaintext)\n",
    "\n",
    "for text in plaintext.lower().split():\n",
    "    for char in text:\n",
    "        ciphertext = ciphertext + alphabets[(alphabets.index(char) + key) % alphabet_size] \n",
    "print(\"Szyfrogram: \",  ciphertext, \"(spacje usunięte)\")\n",
    "\n",
    "decodedtext = \"\"\n",
    "for text in ciphertext:\n",
    "    for char in text:\n",
    "        decodedtext = decodedtext + alphabets[(alphabets.index(char)- key) % alphabet_size]\n",
    "print(\"Odszyfrowana wiadomość: \",  decodedtext,  \"(spacje usunięte)\")"
   ]
  },
  {
   "cell_type": "markdown",
   "metadata": {},
   "source": [
    "## Szyfr monoalfabetyczny: \n",
    "_danemu symbolowi alfabetu jawnego odpowiada dokładnie jeden i ten sam symbol alfabetu tajnego._"
   ]
  },
  {
   "cell_type": "markdown",
   "metadata": {},
   "source": [
    "### Zastanów się:\n",
    "##### 1. Czy szyfr Cezara jest łatwy do złamania? Ile prób (testów przesunięć) trzeba aby złamać szyfr Cezara?\n",
    "- Potrzeba o jedną mniej niż liczba liter w alfabecie, przy pomocy którego zapisana została wiadomość. Wynika to stąd, że w szyfrze Cezara każda litera zaszyfrowanej wiadomości jest przesunięta o tyle samo pozycji w alfabecie. Wystarczy więc sprawdzić wszystkie możliwe przesunięcia, a jest ich o 1 mniej niż liczba liter w alfabecie ($k=0$ nie sprawdzamy, bo wtedy wiadomość jest taka sama jak szyfrogram).\n",
    "\n",
    "##### 2. Co to jest atak siłowy (__brute force__)? \n",
    "- Jest to atak, w którym sprawdzane są wszystkie możliwości. W przypadku szyfru Cezara, atak brute force polegałby na sprawdzeniu wszystkich możliwych przesunięć liter alfabetu.\n",
    "\n",
    "##### 3. Zaproponuj i zaimplementuj wariant szyfru Cezara, która wymaga wykonania większej liczby prób podczas ataku? \n",
    "- Szyfr Cezara z zastosowaniem klucza, określającego różne przesunięcie dla kolejnych liter szyfrowanej wiadomości.\n",
    "\n",
    "lub:\n",
    "\n",
    "- Szyfr Vinegere'a - wykorzystywana jest tablica kwadratowa, w której każdy wiersz zawiera kolejne litery alfabetu przesunięte o inną liczbę pozycji (w każdym kolejnym wierszu litery są przesunięte o 1 pozycję w lewo względem poprzedniego). Potrzebny jest klucz (tym razem klucz jest tekstem, zbudowanym przy pomocy tego samego alfabetu, co szyfrowana wiadomość) o długości równej długości szyfrowanej wiadomości. Następnie, dla kolejnych par liter, stojących na odpowiednio tych samych pozycjach szyfrowanej wiadomości i klucza, wyznaczana jest litera z tablicy, jako przecięcie kolumny, odpowiadającej literze szyfrowanego tekstu oraz wiersza, otrzymanego dla danej litery z klucza.\n",
    "\n",
    "<img src=\"https://upload.wikimedia.org/wikipedia/commons/thumb/9/9a/Vigen%C3%A8re_square_shading.svg/800px-Vigen%C3%A8re_square_shading.svg.png?1665846425974\" width=\"500px\" />\n",
    "\n",
    "Aby odszyfrować wiadomość, trzeba znaleźć wiersz, który odpowiada danej literze klucza, przy pomocy którego zaszyfrowana została wiadomość. Następnie, w tym wierszu należy znaleźć położenie litery z zaszyfrowanej wiadomości, stojącej na tej samej pozycji, co litera z klucza, odpowiadająca danemu wierszowi. Litera przypisana kolumnie, w której znajduje się znaleziona litera z zaszyfrowanej wiadomości, odpowiada literze z wyjściowej wiadomości (tej, która została zaszyfrowana).\n",
    "\n",
    "##### 4. Oceń koszt ataku na ten wariant Cezara.\n",
    "Szyfr Cezara z kluczem określającym różne przesunięcia liter:\n",
    "- W przypadku pierwszego wariantu, w którym korzystamy tylko z różnego przesunięcia dla kolejnych liter alfabetu, konieczne będzie wykonanie $L^n - 1$ prób, gdzie $L$ - jest długością alfabetu, a $n$ - długością szyfrowanej wiadomości.\n",
    "\n",
    "Szyfr Vinegere'a:\n",
    "- Koszt jest taki sam, jak w poprzednim algorytmie, ponieważ konieczne jest sprawdzenie wszystkich możliwych kluczy, a na każdej pozycji klucza może znajdować się jedna z liter alfabetu."
   ]
  },
  {
   "cell_type": "markdown",
   "metadata": {},
   "source": [
    "#### Rozwiązania implementacyjne"
   ]
  },
  {
   "cell_type": "markdown",
   "metadata": {},
   "source": [
    "Szyfr Cezara z $n$-elementowym kluczem"
   ]
  },
  {
   "cell_type": "code",
   "execution_count": 343,
   "metadata": {},
   "outputs": [],
   "source": [
    "alphabet = \"abcdefghijklmnopqrstuvwxyz\"\n",
    "\n",
    "def caesar_init(alphabet):\n",
    "    positions = { k: i for i, k in enumerate(alphabet) }\n",
    "    \n",
    "    def encrypt(text, key):\n",
    "        result = []\n",
    "        for i, char in enumerate(text):\n",
    "            offset = key[i % len(key)]\n",
    "            if char in positions:\n",
    "                result.append(alphabet[(positions[char] + offset) % len(alphabet)])\n",
    "            else:\n",
    "                result.append(char)\n",
    "        return ''.join(result)\n",
    "            \n",
    "    def decrypt(encrypted_text, key):\n",
    "        result = []\n",
    "        for i, char in enumerate(encrypted_text):\n",
    "            offset = key[i % len(key)]\n",
    "            if char in positions:\n",
    "                result.append(alphabet[positions[char] - offset])\n",
    "            else:\n",
    "                result.append(char)\n",
    "        return ''.join(result)\n",
    "        \n",
    "    return encrypt, decrypt\n",
    "\n",
    "encrypt, decrypt = caesar_init(alphabet)"
   ]
  },
  {
   "cell_type": "code",
   "execution_count": 344,
   "metadata": {},
   "outputs": [
    {
     "name": "stdout",
     "output_type": "stream",
     "text": [
      "Encrypted: bqi il bqaa\n",
      "Decrypted: ala ma kota\n",
      "Is ok?: True\n"
     ]
    }
   ],
   "source": [
    "plain_text = 'ala ma kota'\n",
    "key = [1, 5, 8, 4, 22, 11, 14, 17, 2, 7, 0]\n",
    "\n",
    "encrypted = encrypt(plain_text, key)\n",
    "decrypted = decrypt(encrypted, key)\n",
    "\n",
    "print('Encrypted:', encrypted)\n",
    "print('Decrypted:', decrypted)\n",
    "print('Is ok?:', plain_text == decrypted)"
   ]
  },
  {
   "cell_type": "markdown",
   "metadata": {},
   "source": [
    "Szyfr Vinegere'a"
   ]
  },
  {
   "cell_type": "code",
   "execution_count": 345,
   "metadata": {},
   "outputs": [],
   "source": [
    "alphabet = \"abcdefghijklmnopqrstuvwxyz\"\n",
    "\n",
    "def vinegere_init(alphabet):\n",
    "    positions = { k: i for i, k in enumerate(alphabet) }\n",
    "    \n",
    "    def encrypt(text, key):\n",
    "        result = []\n",
    "        for i, char in enumerate(text):\n",
    "            offset = positions[key[i % len(key)]]\n",
    "            if char in positions:\n",
    "                result.append(alphabet[(positions[char] + offset) % len(alphabet)])\n",
    "            else:\n",
    "                result.append(char)\n",
    "        return ''.join(result)\n",
    "            \n",
    "    def decrypt(encrypted_text, key):\n",
    "        result = []\n",
    "        for i, char in enumerate(encrypted_text):\n",
    "            offset = positions[key[i % len(key)]]\n",
    "            if char in positions:\n",
    "                result.append(alphabet[positions[char] - offset])\n",
    "            else:\n",
    "                result.append(char)\n",
    "        return ''.join(result)\n",
    "        \n",
    "    return encrypt, decrypt\n",
    "\n",
    "encrypt, decrypt = vinegere_init(alphabet)"
   ]
  },
  {
   "cell_type": "code",
   "execution_count": 346,
   "metadata": {},
   "outputs": [
    {
     "name": "stdout",
     "output_type": "stream",
     "text": [
      "Encrypted: pte ya vsii\n",
      "Decrypted: ala ma kota\n",
      "Is ok?: True\n"
     ]
    }
   ],
   "source": [
    "plain_text = 'ala ma kota'\n",
    "key = \"piesmaale\"\n",
    "\n",
    "encrypted = encrypt(plain_text, key)\n",
    "decrypted = decrypt(encrypted, key)\n",
    "\n",
    "print('Encrypted:', encrypted)\n",
    "print('Decrypted:', decrypted)\n",
    "print('Is ok?:', plain_text == decrypted)"
   ]
  },
  {
   "cell_type": "markdown",
   "metadata": {},
   "source": [
    "### Zadanie samodzielne dla studentów\n",
    "1. Napisz ,,ulepszony szyfr Cezara'' czyli monoalfabetyczny szyfr z tajną pemutacją alfabetu szyfrowego\n",
    "2. Można wykorzystać funkcję random.permutation() z biblioteki numpy"
   ]
  },
  {
   "cell_type": "code",
   "execution_count": 347,
   "metadata": {},
   "outputs": [
    {
     "name": "stdout",
     "output_type": "stream",
     "text": [
      "Encrypted: vpyyp lub vgjupwyb vmrrgy\n",
      "Decrypted: zorro fly zealotry zipper\n",
      "Is ok?: True\n"
     ]
    }
   ],
   "source": [
    "# lepszy Cezar\n",
    "# Wyjaśnienie, czym są szyfry permutacyjne: https://www.youtube.com/watch?v=tgWr-PS4UIU\n",
    "import numpy as np\n",
    "\n",
    "alphabet = \"abcdefghijklmnopqrstuvwxyz\"\n",
    "\n",
    "def permutation_caesar_init(alphabet):\n",
    "    secret_alphabet = ''.join(np.random.permutation(list(alphabet)))\n",
    "    positions = { k: i for i, k in enumerate(secret_alphabet) }\n",
    "    \n",
    "    def encrypt(text, key):\n",
    "        return ''.join([secret_alphabet[(positions[char] + key) % len(alphabet)] \n",
    "                        if char in positions else char for char in text])\n",
    "            \n",
    "    def decrypt(encrypted_text, key):\n",
    "        return ''.join([secret_alphabet[(positions[char] - key)] \n",
    "                        if char in positions else char for char in encrypted_text])\n",
    "    \n",
    "    return encrypt, decrypt\n",
    "\n",
    "encrypt, decrypt = permutation_caesar_init(alphabet)\n",
    "\n",
    "plain_text = \"zorro fly zealotry zipper\"\n",
    "key = 3\n",
    "\n",
    "encrypted = encrypt(plain_text, key)\n",
    "decrypted = decrypt(encrypted, key)\n",
    "\n",
    "print('Encrypted:', encrypted)\n",
    "print('Decrypted:', decrypted)\n",
    "print('Is ok?:', plain_text == decrypted)"
   ]
  },
  {
   "cell_type": "markdown",
   "metadata": {},
   "source": [
    "## Kryptoanaliza szyfrów monoalfabetycznych\n",
    "\n",
    "Współcześnie kryptoanaliza szyfru Cezara jest trywialna. Można po prostu sprawdzić wszystkie 26 możliwych przesunięć. \n",
    "\n",
    "Szyfry monoalfabetyczne nie są także odporne na __kryptoanalizę statystyczną__. Znając rozkład częstości liter w tekstach napisanych w danym języku możemy odgadnąć przesunięcie obserwując minima i maxima w histogramach. \n",
    "\n",
    "W zasadzie kluczową sprawą w obu przypadkach jest znajomość języka, a w gruncie rzeczy alfabetu. "
   ]
  },
  {
   "cell_type": "markdown",
   "metadata": {},
   "source": [
    "### Zadanie samodzielne dla studentów\n",
    "1. Narysuj rozkład częstości występowania liter w języku angielskim (kod rysowania histogramu poniżej)"
   ]
  },
  {
   "cell_type": "code",
   "execution_count": 348,
   "metadata": {},
   "outputs": [
    {
     "data": {
      "image/png": "[encoded data removed]",
      "text/plain": [
       "<Figure size 1080x648 with 1 Axes>"
      ]
     },
     "metadata": {
      "needs_background": "light"
     },
     "output_type": "display_data"
    }
   ],
   "source": [
    "from matplotlib import pyplot as plt\n",
    "import numpy as np\n",
    "\n",
    "letters =   ['a',  'b',    'c',   'd',  'e',   'f',   'g',   'h',   'i',   'j',   'k',   'l',    'm',  'n',   'o',   'p',    'q',  'r',   's',   't',   'u',   'v',   'w',   'x',    'y',   'z']\n",
    "frequency = [0.080, 0.015, 0.030, 0.040, 0.130, 0.020, 0.015, 0.060, 0.065, 0.005, 0.005, 0.035, 0.030, 0.070, 0.080, 0.020, 0.002, 0.065, 0.060, 0.090, 0.030, 0.010, 0.015, 0.005, 0.020, 0.002]\n",
    "labels = np.arange(len(letters))\n",
    "plt.figure(figsize=(15,9))\n",
    "plt.bar(labels, frequency, alpha=0.5, edgecolor=\"green\")\n",
    "plt.xlabel('Alfabet')\n",
    "plt.xticks(np.arange(26), ('a','b', 'c', 'd', 'e', 'f', 'g', 'h', 'i', 'j', 'k', 'l', 'm', 'n', 'o', 'p', 'q', 'r', 's', 't', 'u', 'v', 'w', 'x', 'y', 'z'))\n",
    "plt.title(\"Język angielski\");\n",
    "plt.ylabel('Częstość występowania')\n",
    "plt.show()"
   ]
  },
  {
   "cell_type": "markdown",
   "metadata": {},
   "source": [
    "2. Dokonaj analizy częstości występowania liter w tekście jawnym i szyfrogramie (szyfr Cezara z dowolnym przesunięciem) dla tekstu w poniższym fragmencie kodu. Wyświetl wyniki podobnie jak powyżej. "
   ]
  },
  {
   "cell_type": "code",
   "execution_count": 349,
   "metadata": {
    "scrolled": true
   },
   "outputs": [],
   "source": [
    "import numpy as np\n",
    "from matplotlib import pyplot as plt\n",
    "\n",
    "plain_text = \"TobeornottobethatisthequestionWhethertisNoblerinthemindtosufferTheSlingsandArrowsofoutrageousFortuneOrtotakeArmsagainstaSeaoftroublesAndbyopposingendthem\"\n",
    "\n",
    "alphabet = [\n",
    "    'a','b','c','d','e','f','g','h','i','j','k','l','m',\n",
    "    'n','o','p','q','r','s','t','u','v','w','x','y','z'\n",
    "]\n",
    "\n",
    "# policz częstość i wyświetl rozkłady\n",
    "from collections import defaultdict\n",
    "\n",
    "def count_frequency(text):\n",
    "    counts = defaultdict(int)\n",
    "    for char in text:\n",
    "        counts[char] += 1\n",
    "    return dict(counts)\n",
    "\n",
    "def caesar_init(alphabet):\n",
    "    positions = { k: i for i, k in enumerate(alphabet) }\n",
    "    \n",
    "    def encrypt(text, key):\n",
    "        return ''.join([alphabet[(positions[char] + key) % len(alphabet)] \n",
    "                        if char in positions else char\n",
    "                        for char in text.lower()])\n",
    "            \n",
    "    def decrypt(encrypted_text, key):\n",
    "                return ''.join([alphabet[(positions[char] - key) % len(alphabet)] \n",
    "                        if char in positions else char\n",
    "                        for char in text])\n",
    "        \n",
    "    return encrypt, decrypt\n",
    "\n",
    "def draw_frequency_chart(text, alphabet):\n",
    "    counts = count_frequency(text)\n",
    "    frequencies = [counts[letter] if letter in counts else 0 for letter in alphabet]\n",
    "    labels = np.arange(len(alphabet))\n",
    "    plt.figure(figsize=(15,9))\n",
    "    plt.bar(labels, frequencies, alpha=0.5, edgecolor=\"green\")\n",
    "    plt.xlabel('Alfabet')\n",
    "    plt.xticks(np.arange(len(alphabet)), alphabet)\n",
    "    plt.title(\"Język angielski\");\n",
    "    plt.ylabel('Częstość występowania')\n",
    "    plt.show()"
   ]
  },
  {
   "cell_type": "code",
   "execution_count": 350,
   "metadata": {},
   "outputs": [
    {
     "name": "stdout",
     "output_type": "stream",
     "text": [
      "Plain text:     TobeornottobethatisthequestionWhethertisNoblerinthemindtosufferTheSlingsandArrowsofoutrageousFortuneOrtotakeArmsagainstaSeaoftroublesAndbyopposingendthem\n"
     ]
    },
    {
     "data": {
      "image/png": "[encoded data removed]",
      "text/plain": [
       "<Figure size 1080x648 with 1 Axes>"
      ]
     },
     "metadata": {
      "needs_background": "light"
     },
     "output_type": "display_data"
    }
   ],
   "source": [
    "plain_text_lower = plain_text.lower()\n",
    "print('Plain text:    ', plain_text)\n",
    "draw_frequency_chart(plain_text_lower, alphabet)"
   ]
  },
  {
   "cell_type": "code",
   "execution_count": 351,
   "metadata": {},
   "outputs": [
    {
     "name": "stdout",
     "output_type": "stream",
     "text": [
      "Encrypted text: wrehruqrwwrehwkdwlvwkhtxhvwlrqzkhwkhuwlvqreohulqwkhplqgwrvxiihuwkhvolqjvdqgduurzvrirxwudjhrxviruwxqhruwrwdnhdupvdjdlqvwdvhdriwurxeohvdqgebrssrvlqjhqgwkhp\n"
     ]
    },
    {
     "data": {
      "image/png": "[encoded data removed]",
      "text/plain": [
       "<Figure size 1080x648 with 1 Axes>"
      ]
     },
     "metadata": {
      "needs_background": "light"
     },
     "output_type": "display_data"
    }
   ],
   "source": [
    "encrypt, decrypt = caesar_init(alphabet)\n",
    "key = 3\n",
    "encrypted_text = encrypt(plain_text_lower, key)\n",
    "print('Encrypted text:', encrypted_text)\n",
    "draw_frequency_chart(encrypted_text, alphabet)"
   ]
  },
  {
   "cell_type": "markdown",
   "metadata": {},
   "source": [
    "3. Dokonaj analizy częstości występowania liter w szyfrogramie wygenerowanym przez \"ulepszonego Cezara\""
   ]
  },
  {
   "cell_type": "code",
   "execution_count": 352,
   "metadata": {},
   "outputs": [
    {
     "name": "stdout",
     "output_type": "stream",
     "text": [
      "Encrypted text: mqefqhtqmmqefmxsmnumxfrbfumnqtdxfmxfhmnutqevfhntmxfpntlmqubjjfhmxfuvntiustlshhqduqjqbmhsifqbujqhmbtfqhmqmszfshpusisntumsufsqjmhqbevfustleaqccquntiftlmxfp\n"
     ]
    },
    {
     "data": {
      "image/png": "[encoded data removed]",
      "text/plain": [
       "<Figure size 1080x648 with 1 Axes>"
      ]
     },
     "metadata": {
      "needs_background": "light"
     },
     "output_type": "display_data"
    }
   ],
   "source": [
    "encrypt, decrypt = permutation_caesar_init(alphabet)\n",
    "key = 3\n",
    "encrypted_text = encrypt(plain_text_lower, key)\n",
    "print('Encrypted text:', encrypted_text)\n",
    "draw_frequency_chart(encrypted_text, alphabet)"
   ]
  },
  {
   "cell_type": "markdown",
   "metadata": {},
   "source": [
    "### Ciekawostka: \n",
    "Automatyczna kryptoanaliza tekstu zaszyfrowanego zwykłym Cezarem"
   ]
  },
  {
   "cell_type": "code",
   "execution_count": 353,
   "metadata": {},
   "outputs": [
    {
     "name": "stdout",
     "output_type": "stream",
     "text": [
      "Requirement already satisfied: nltk in /Users/mateu/opt/anaconda3/lib/python3.9/site-packages (3.7)\n",
      "Requirement already satisfied: tqdm in /Users/mateu/opt/anaconda3/lib/python3.9/site-packages (from nltk) (4.64.0)\n",
      "Requirement already satisfied: joblib in /Users/mateu/opt/anaconda3/lib/python3.9/site-packages (from nltk) (1.1.0)\n",
      "Requirement already satisfied: click in /Users/mateu/opt/anaconda3/lib/python3.9/site-packages (from nltk) (8.0.4)\n",
      "Requirement already satisfied: regex>=2021.8.3 in /Users/mateu/opt/anaconda3/lib/python3.9/site-packages (from nltk) (2022.3.15)\n",
      "Próba klucza:  25  .... pehhe\n",
      "Próba klucza:  10  .... etwwt\n",
      "Próba klucza:  2  .... mbeeb\n",
      "Próba klucza:  15  .... zorro\n",
      "\n",
      " Decoded string:  zorro\n"
     ]
    },
    {
     "name": "stderr",
     "output_type": "stream",
     "text": [
      "[nltk_data] Downloading package words to /Users/mateu/nltk_data...\n",
      "[nltk_data]   Package words is already up-to-date!\n"
     ]
    }
   ],
   "source": [
    "!pip install nltk \n",
    "import nltk\n",
    "nltk.download('words')\n",
    "from nltk.corpus import words\n",
    "\n",
    "\n",
    "unique = []\n",
    "frequency = []\n",
    "psi = []\n",
    "key = 0\n",
    "value = 0.0\n",
    "exit = True\n",
    "\n",
    "ciphertext = \"odggd\".lower()\n",
    "\n",
    "alphabets = \"abcdefghijklmnopqrstuvwxyz\"\n",
    "\n",
    "english_frequency_prob = [0.080, 0.015, 0.030, 0.040, 0.130, 0.020, 0.015, 0.060, 0.065, 0.005, \n",
    "                          0.005, 0.035, 0.030, 0.070, 0.080, 0.020, 0.002, 0.065, 0.060, 0.090, \n",
    "                          0.030, 0.010, 0.015, 0.005, 0.020, 0.002]\n",
    "\n",
    "\n",
    "\n",
    "for char in ciphertext: #lista liter w szyfrogramie\n",
    "    if (char not in unique) and (char.isalpha()):\n",
    "        unique.append(char)\n",
    "        \n",
    "only_alphabets = [char for char in ciphertext if char.isalpha()]  #tylko litery\n",
    "\n",
    "for unique_char in unique: #częstość liter w tekście \n",
    "     frequency.append(ciphertext.count(unique_char) / float(len(only_alphabets)))\n",
    "\n",
    "for i in range(0,26): #oblicz dopasowanie\n",
    "    for unique_char in unique:\n",
    "         value = value + frequency[unique.index(unique_char)] * english_frequency_prob[alphabets.index(unique_char) - i]\n",
    "    psi.append(value)  \n",
    "    value = 0.0\n",
    "    \n",
    "sorted_psi = psi[:] # sortuj dopasowanie\n",
    "sorted_psi.sort(reverse=True)\n",
    "\n",
    "decoded_string = \"\"\n",
    "for i in range(0, 26):\n",
    "    key = psi.index(sorted_psi[i])\n",
    "    decoded_string = \"\"\n",
    "    for char in ciphertext:\n",
    "        if (char != ' '):\n",
    "            decoded_string = decoded_string + alphabets[alphabets.index(char) - key]\n",
    "        else:\n",
    "            decoded_string = decoded_string + \" \"\n",
    "            \n",
    "    print(\"Próba klucza: \", key, \" ....\", decoded_string)\n",
    "    \n",
    "    for word in decoded_string.split():\n",
    "        if word not in words.words(): #czy szyfrowanie ma sens\n",
    "            exit = False\n",
    "        else:\n",
    "            exit = True\n",
    "    if exit:\n",
    "        break\n",
    "        \n",
    "print(\"\\n\", \"Decoded string: \", decoded_string)"
   ]
  },
  {
   "cell_type": "markdown",
   "metadata": {},
   "source": [
    "## Podsumowanie \n",
    "Główną słabością szyfrów monoalfabetycznych jest stałość przekształcenia, dzięki czemu możliwe jest łatwe zaobserwowanie regularności.\n",
    "\n",
    "Rozwiązaniem może być zmiana alfabetów w trakcie szyfrowania. Dla uproszczenia wystarczy zmieniać jedynie porządek liter. \n",
    "\n",
    "### Zadanie samodzielne dla studentów"
   ]
  },
  {
   "cell_type": "code",
   "execution_count": 354,
   "metadata": {},
   "outputs": [],
   "source": [
    "plain_text = \"TobeornottobethatisthequestionWhethertisNoblerinthemindtosufferTheSlingsandArrowsofoutrageousFortuneOrtotakeArmsagainstaSeaoftroublesAndbyopposingendthem\"\n",
    "key = \"klucz\""
   ]
  },
  {
   "cell_type": "markdown",
   "metadata": {},
   "source": [
    "1. Napisać program, który zmienia alfabet szyfrowania po każdej literze.\n",
    "_Co będzie potrzebne oprócz tekstu jawnego?_"
   ]
  },
  {
   "cell_type": "markdown",
   "metadata": {},
   "source": [
    "- Przykładem takiego algorytmu jest algorytm Vigenere'a (implementacja znajduje się wcześniej w tym pliku). Poza tekstem jawnym, potrzebny jest klucz szyfrowania oraz znajomość relacji liter z szyfrowanego tekstu i klucza. W przypadku szyfru Vigenere'a, wykorzystuje się do tego celu tabelę (również opisana wcześniej)."
   ]
  },
  {
   "cell_type": "markdown",
   "metadata": {},
   "source": [
    "2. Dokonaj analizy częstościowej szyfrogramu zaszyfrowanego szyfrem Vigenera"
   ]
  },
  {
   "cell_type": "code",
   "execution_count": 355,
   "metadata": {},
   "outputs": [
    {
     "name": "stdout",
     "output_type": "stream",
     "text": [
      "Encrypted text: dzvgnbyivsymyvgkecusrpkwdcecqmgsyvgocnkrxzvndbthvgoxcpcdzmwepplvgodfkmqdupckclqvczzqtdcuidyfmhnbeopdycnqskvycqwduizsymvzcpuqedciwavpmcmnmsqozzmkmqphfsrpg\n"
     ]
    },
    {
     "data": {
      "image/png": "[encoded data removed]",
      "text/plain": [
       "<Figure size 1080x648 with 1 Axes>"
      ]
     },
     "metadata": {
      "needs_background": "light"
     },
     "output_type": "display_data"
    }
   ],
   "source": [
    "encrypt, decrypt = vinegere_init(alphabet)\n",
    "encrypted_text = encrypt(plain_text_lower, key)\n",
    "print('Encrypted text:', encrypted_text)\n",
    "draw_frequency_chart(encrypted_text, alphabet)"
   ]
  },
  {
   "cell_type": "markdown",
   "metadata": {},
   "source": [
    "### Zastanów się:\n",
    "1. Sprawdź jak wygląda histogram szyfrogramu.\n",
    "\n",
    "- Inaczej niż histogram szyfrowanej wiadomości. Jego wygląd jest zależny od użytego algorytmu szyfrowania.\n",
    "\n",
    "2. Zastanów się jakie znaczenia ma długość klucza dla bezpieczeństwa szyfrowania.\n",
    "\n",
    "- Im dłuższy klucz, tym zaszyfrowana wiadomość jest trudniejsza do odszyfrowania.\n",
    "\n",
    "3. Czy powtarzanie klucza można wykorzystać dla potrzeb kryptoanalizy?\n",
    "\n",
    "- Wielokrotne wykorzystywanie tego samego klucza może dawać w rezultacie szyfrogramy o podobnych cechach. Z rego powodu, można wykorzystać powtarzanie klucza dla potrzeb kryptoanalizy, w celu sprawdzenia jakości algorytmu szyfrowania.\n",
    "\n",
    "4. Jaki klucz gwarantowałby bezpieczeństwo?\n",
    "\n",
    "- Taki klucz, który nie został wcześniej wykorzystany i jego długość jest przynajmniej taka jak długość szyfrowanej wiadomości.\n",
    "\n",
    "5. Jaki rozkład częstości symboli szyfrogramu nie ujawni żadnych przydatnych danych kryptoanalitykowi? \n",
    "\n",
    "- Rozkład, w którym częstość występowania poszczególnych symboli jest niezależna od częstości wykorzystywania tych symboli w słowach danego języka. Wówczas, nie można dopasować liter szyfrogramu do odpowiednich liter alfabetu szyfrowego, na podstawie częstości ich występowania.\n",
    "\n",
    "### Szyfr polialfabetyczny \n",
    "- _Szyfr używający wielu alfabetów szyfrowych. W trakcie szyfrowania te same litery w tekście jawnym_\n",
    "\n",
    "### Szyfr doskonały (według Clouda Shannona):\n",
    "1. Jakie warunki musi spełniać szyfr-nie-do-złamania? \n",
    "- klucz użyty do szyfrowania wiadomości jest dłuższy lub tej samej długości, co szyfrowana wiadomość,\n",
    "- klucz jest wygenerowany w sposób całkowicie losowy (nie istnieje sposób na odtworzenie klucza na podstawie znajmości działania generatorów liczb pseudolosowych),\n",
    "- klucz nie może być użyty do zaszyfrowania więcej niż jednej wiadomości"
   ]
  },
  {
   "cell_type": "markdown",
   "metadata": {},
   "source": [
    "## Zadanie (dodatkowe, na ocenę)\n",
    "1. Napisz notebook jupyter, które implementuje klasyczne szyfry mechaniczne: Enigma, szyfr Playfair, szyfr maszyny Lorenza. W sieci można łatwo znaleźć gotowe kody, wiec przy ocenie zwracam uwagę no dokładne omówienie kodu, przejrzystość, komentarze etc. "
   ]
  },
  {
   "cell_type": "markdown",
   "metadata": {},
   "source": [
    "### Szyfr Enigma"
   ]
  },
  {
   "cell_type": "markdown",
   "metadata": {},
   "source": [
    "#### Opis\n",
    "- Enigma jest urządzeniem przypominającym maszynę do pisania, składającym się z następujących elementów, biorących udział w szyfrowaniu wiadomości:\n",
    "  - klawiatura,\n",
    "  - panel (plugboard), pozwalający na ręczne przepięcie par liter (np. zamianę litery **A** z literą **G**),\n",
    "  - rotory (wirniki) (pierwotnie 3, później nawet 7), zmieniające swoje ułożenie po każdym naciśnięciu przycisku na klawiaturze,\n",
    "  - reflektor (dzięki niemu sygnał wraca z powrotem przez obwód do klawiatury i skutkuje zapaleniem się odpowiedniej lampki, oznaczającej zakodowany znak)\n",
    "- Po naciśnięciu dowolnego klawisza na klawiaturze, obraca się pierwszy w kolejności rotor. Każdy rotor posiada wgłębienie. Po obróceniu się pierwszego rotora do pozycji, w której znajduje się wgłębienie sąsiadującego rotora, następuje obrót obu rotorów równocześnie. Zakładając, że alfabet szyfrowy ma $26$ znaków, możemy zauważyć, iż pierwszy rotor obraca się za każdym razem, gdy naciśniemy klawisz na klawiaturze. Kolejny rotor obraca się co $26$ wprowadzonych znaków, następny co $26 \\cdot 26 = 676$, itd.\n",
    "- każdy z rotorów posiada zdefiniowane mapowanie liter alfabetu na pewną permutację tych liter. Przykładowo, pierwszy rotor może przekształcać kolejne litery alfabetu w następujący sposób: `ABCDEFGHIJKLMNOPQRSTUVWXYZ -> EKMFLGDQVZNTOWYHXUSPAIBRCJ`,\n",
    "- każdy rotor posiada również ustaloną pozycję wgłębienia, powodującego jego obrót,\n",
    "\n",
    "##### Szyfrowanie wiadomości\n",
    "- na początku należy wybrać konfigurację maszyny (ustawić połączenia na panelu i dobrać rotory, które mają odpowiednie mapowania liter oraz pozycje wgłębień),\n",
    "- szyfrowanie odbywa się poprzez wpisywanie kolejnych liter na klawiaturze,\n",
    "- jako klucz szyfrowania służy początkowa konfiguracja maszyny (ułożenie i rodzaj rotorów oraz połączenia w panelu)\n",
    "\n",
    "##### Odszyfrowywanie wiadomości\n",
    "- aby odszyfrować wiadomość, należy dysponować takim samym zestawem rotorów (ułożone w takiej samej kolejności, z takim samym mapowaniem liter alfabetu i tymi samymi pozycjami wgłębień),\n",
    "- konieczne jest również podłączenie liter na panelu w taki sam sposób jak w maszynie, na której została zaszyfrowana wiadomość,\n",
    "- rotory należy obrócić w taki sposób, jak na początku w maszynie, na której odbywało się szyfrowanie (ustawić na nich takie same początkowe symbole (litery)),\n",
    "- po prawidłowej konfiguracji początkowej, wystarczy wpisać otrzymany szyfrogram, żeby otrzymać tekst jawny"
   ]
  },
  {
   "cell_type": "code",
   "execution_count": 356,
   "metadata": {},
   "outputs": [],
   "source": [
    "'''\n",
    "Rotor wiring (Enigma I): https://www.wikiwand.com/en/Enigma_rotor_details\n",
    "'''\n",
    "\n",
    "class Keyboard:\n",
    "  def __init__(self, alphabet):\n",
    "    self.letters = alphabet\n",
    "    self.signals = {l: i for i, l in enumerate(alphabet)}\n",
    "\n",
    "  def forward(self, letter):\n",
    "    return self.signals[letter]\n",
    "\n",
    "  def backward(self, signal):\n",
    "    return self.letters[signal]\n",
    "\n",
    "class Component:\n",
    "  def __init__(self, left, right):\n",
    "    self.left = left\n",
    "    self.right = right\n",
    "\n",
    "  def forward(self, signal):\n",
    "    letter = self.right[signal]\n",
    "    return self.left.index(letter)\n",
    "\n",
    "  def backward(self, signal):\n",
    "    letter = self.left[signal]\n",
    "    return self.right.index(letter)\n",
    "\n",
    "class Plugboard(Component):\n",
    "  def __init__(self, alphabet, pairs):\n",
    "    left = list(alphabet)\n",
    "    right = list(alphabet)\n",
    "\n",
    "    positions = {l: i for i, l in enumerate(alphabet)}\n",
    "\n",
    "    for l1, l2 in pairs:\n",
    "      idx1 = positions[l1]\n",
    "      idx2 = positions[l2]\n",
    "      left[idx1], left[idx2] = left[idx2], left[idx1]\n",
    "\n",
    "    super().__init__(left, right)\n",
    "    \n",
    "class Rotor(Component):\n",
    "  def __init__(self, alphabet, wiring, notch):\n",
    "    super().__init__(alphabet, wiring)\n",
    "    self.alphabet = alphabet\n",
    "    self.notch = notch\n",
    "\n",
    "  def rotate(self, steps=1, forward=True):\n",
    "    if forward:\n",
    "      self.left = self.left[steps:] + self.left[:steps]\n",
    "      self.right = self.right[steps:] + self.right[:steps]\n",
    "    else:\n",
    "      self.left = self.left[-steps:] + self.left[:-steps]\n",
    "      self.right = self.right[-steps:] + self.right[:-steps]\n",
    "\n",
    "  def rotate_to_letter(self, letter):\n",
    "    self.rotate(self.left.index(letter))\n",
    "\n",
    "  def set_ring(self, position):\n",
    "    # rotate the rotor backwards\n",
    "    self.rotate(position, forward=False)\n",
    "    # adjust the notch position\n",
    "    notch_position = self.alphabet.index(self.notch)\n",
    "    self.notch = alphabet[notch_position - position]\n",
    "\n",
    "class Reflector(Component):\n",
    "  def __init__(self, alphabet, wiring):\n",
    "    super().__init__(alphabet, wiring)\n",
    "\n",
    "  def reflect(self, signal):\n",
    "    return super().forward(signal)\n",
    "\n",
    "  # Remove forward and backward methods from the Reflector class\n",
    "  def forward(self, *args, **kwargs):\n",
    "    raise AttributeError(f\"'{self.__class__.__name__}' object has no attribute 'forward'\")\n",
    "\n",
    "  def backward(self, *args, **kwargs):\n",
    "    raise AttributeError(f\"'{self.__class__.__name__}' object has no attribute 'backward'\")\n",
    "\n",
    "class Enigma:\n",
    "  def __init__(self, keyboard, plugboard, rotors, reflector):\n",
    "    self.keyboard = keyboard\n",
    "    self.plugboard = plugboard\n",
    "    self.rotors = rotors\n",
    "    self.reflector = reflector\n",
    "\n",
    "  def set_key(self, key):\n",
    "    if len(key) != len(self.rotors):\n",
    "      raise AttributeError(f\"'key' must have {len(self.rotors)} letters\")\n",
    "    for i, letter in enumerate(key):\n",
    "      self.rotors[i].rotate_to_letter(letter.upper())\n",
    "\n",
    "  def set_rings(self, rings):\n",
    "    if len(rings) != len(self.rotors):\n",
    "      raise AttributeError(f\"'rings' must contain {len(self.rotors)} numbers\")\n",
    "    for i, ring in enumerate(rings):\n",
    "      self.rotors[i].set_ring(ring)\n",
    "\n",
    "  def encrypt(self, message):\n",
    "    return ''.join([self.__encrypt_letter(letter) for letter in message.upper()])\n",
    "    \n",
    "  def decrypt(self, cipher):\n",
    "    # Decryption is the same as encryption\n",
    "    return ''.join([self.__encrypt_letter(letter) for letter in cipher.upper()])\n",
    "\n",
    "  def __encrypt_letter(self, letter):\n",
    "    self.__rotate_rotors()\n",
    "    signal = self.keyboard.forward(letter)\n",
    "    signal = self.plugboard.forward(signal)\n",
    "    for rotor in self.rotors[::-1]:\n",
    "      signal = rotor.forward(signal)\n",
    "    signal = self.reflector.reflect(signal)\n",
    "    for rotor in self.rotors:\n",
    "      signal = rotor.backward(signal)\n",
    "    signal = self.plugboard.backward(signal)\n",
    "    return self.keyboard.backward(signal)\n",
    "\n",
    "  def __rotate_rotors(self):\n",
    "    for rotor in self.rotors[::-1]:\n",
    "      rotate_next = rotor.left[0] == rotor.notch\n",
    "      rotor.rotate()\n",
    "      if not rotate_next:\n",
    "        return"
   ]
  },
  {
   "cell_type": "code",
   "execution_count": 357,
   "metadata": {},
   "outputs": [],
   "source": [
    "alphabet = \"ABCDEFGHIJKLMNOPQRSTUVWXYZ\"\n",
    "\n",
    "# Keyboard and plugboard\n",
    "keyboard = Keyboard(alphabet)\n",
    "plugboard = Plugboard(alphabet, [\"KR\", \"YP\", \"TO\"])\n",
    "\n",
    "# Rotors and reflector\n",
    "rotorI = Rotor(alphabet, \"EKMFLGDQVZNTOWYHXUSPAIBRCJ\", \"Q\")\n",
    "rotorII = Rotor(alphabet, \"AJDKSIRUXBLHWTMCQGZNPYFVOE\", \"E\")\n",
    "rotorIII = Rotor(alphabet, \"BDFHJLCPRTXVZNYEIWGAKMUSQO\", \"V\")\n",
    "reflectorA = Reflector(alphabet, \"EJMZALYXVBWFCRQUONTSPIKHGD\")\n",
    "\n",
    "# Enigma machine\n",
    "enigma = Enigma(\n",
    "  keyboard,\n",
    "  plugboard,\n",
    "  [rotorI, rotorII, rotorIII],\n",
    "  reflectorA\n",
    ")\n"
   ]
  },
  {
   "cell_type": "code",
   "execution_count": 358,
   "metadata": {},
   "outputs": [
    {
     "name": "stdout",
     "output_type": "stream",
     "text": [
      "Encrypted: TAZSJOOZOJPVJSNLPU\n",
      "Decrypted: MOJATAJNAWIADOMOSC\n"
     ]
    }
   ],
   "source": [
    "enigma.set_rings((4, 7, 22))\n",
    "\n",
    "enigma.set_key(\"AGH\")\n",
    "encrypted = enigma.encrypt(\"mojatajnawiadomosc\")\n",
    "# Reset rotors positions before decrypting a message\n",
    "enigma.set_key(\"AGH\")\n",
    "decrypted = enigma.decrypt(encrypted)\n",
    "\n",
    "print(\"Encrypted:\", encrypted)\n",
    "print(\"Decrypted:\", decrypted)"
   ]
  },
  {
   "cell_type": "markdown",
   "metadata": {},
   "source": [
    "### Szyfr Playfair"
   ]
  },
  {
   "cell_type": "markdown",
   "metadata": {},
   "source": [
    "##### Opis\n",
    "- Szyfr Playfair polega na utworzeniu tablicy znaków o wymiarach $5 \\times 5$, a następnie, przekształcaniu kolejnych par liter tekstu jawnego w określony sposób, korzystając z tej tablicy.\n",
    "\n",
    "##### Tworzenie tablicy\n",
    "- Do stworzenia tablicy jest wykorzystywany podany klucz szyfrowania oraz litery alfabetu szyfrowego,\n",
    "- Tablica jest wykorzystywana zarówno przy szyfrowaniu jak i przy odszyfrowywaniu,\n",
    "- W pierwszym kroku, tworzona jest tablica $5 \\times 5$, w następujący sposób:\n",
    "  - jako kolejne litery w wierszu wpisywane są kolejne litery klucza z pominięciem tych, które wystąpiły wcześniej,\n",
    "  - litery $i$ oraz $j$ są traktowane tożsamo (jako takie same litery, ponieważ jest 26 liter alfabetu łacińskiego, a tablica ma tylko 25 pól, więc trzeba pozbyć się jednej z liter. Zazwyczaj pozbywamy się litery $i$ lub $j$),\n",
    "  - jeżeli do tablicy wpisaliśmy literę $i$, nie wpisujemy już litery $j$ (lub, jeżeli wpisaliśmy literę $j$, nie wpisujemy litery $i$),\n",
    "  - następnie, tablicę dopełniamy pozostałymi literami alfabetu w takiej kolejności, w jakiej te litery występują w alfabecie (trzymamy się również wyżej opisanych zasad, więc pomijamy wpisane wcześniej litery i traktujemy litery $i$ oraz $j$ jako tę samą literę),\n",
    "\n",
    "###### Tworzenie tablicy (przykład)\n",
    "**Klucz:** mojkluczszyfrowania\n",
    "Wypełnienie tablicy kluczem:\n",
    "```\n",
    "+---+---+---+---+---+\n",
    "| m | o | j | k | l |\n",
    "+---+---+---+---+---+\n",
    "| u | c | z | s | y |\n",
    "+---+---+---+---+---+\n",
    "| f | r | w | a | n |\n",
    "+---+---+---+---+---+\n",
    "|   |   |   |   |   |\n",
    "+---+---+---+---+---+\n",
    "|   |   |   |   |   |\n",
    "+---+---+---+---+---+\n",
    "```\n",
    "Dopełnienie pozostałymi literami alfabetu:\n",
    "```\n",
    "+---+---+---+---+---+\n",
    "| m | o | j | k | l |\n",
    "+---+---+---+---+---+\n",
    "| u | c | z | s | y |\n",
    "+---+---+---+---+---+\n",
    "| f | r | w | a | n |\n",
    "+---+---+---+---+---+\n",
    "| b | d | e | h | h |\n",
    "+---+---+---+---+---+\n",
    "| p | q | t | v | x |\n",
    "+---+---+---+---+---+\n",
    "```\n",
    "\n",
    "##### Szyfrowanie\n",
    "- W kolejnym kroku, dzielimy tekst jawny na bloki, składające się z 2 liter, zgodnie z poniższymi zasadami:\n",
    "  - 2 sąsiednie litery tworzą pojedynczy blok,\n",
    "  - jeżeli obie litery są takie same, zamieniamy 2. literę na inną (zwykle przyjmuje się, że jest to litera $x$),\n",
    "  - jeżeli ostatni blok składa się z 1 litery (bo tekst jawny ma nieparzystą liczbę znaków), dopisujemy do tego bloku literę $x$, tworząc parę liter,\n",
    "- Szyfrujemy kolejne pary, zgodnie z poniższymi zasadami:\n",
    "  - jeżeli obie litery z pary znajdują się w tym samym wierszu, zastępujemy je przed ich sąsiadów, leżących po ich prawej stronie. Jeżeli jedna z liter znajduje się w ostatniej kolumnie, zastępujemy ją przez literę z tego samego wiersza, leżącą w pierwszej kolumnie,\n",
    "  - jeżeli obie litery znajdują się w tej samej kolumnie, zastępujemy je przez ich sąsiadów, leżących jeden wiersz niżej względem odpowiednich liter. Jeżeli jedna z liter znajduje się w ostatnim wierszu, zastępujemy ją przez literę z pierwszego wiersza (leżącą w tej samej kolumnie),\n",
    "  - jeżeli litery nie leżą ani w tym samym wierszu, ani w tej samej kolumnie, każdą z liter z pary zastępujemy literą, znajdującą się w tym samym wierszu, leżącą w tej kolumnie, w której znajduje się druga litera z pary,\n",
    "- Tak otrzymane pary łączymy w jeden ciąg tekstowy i otrzymujemy szyfrogram.\n",
    "\n",
    "##### Odszyfrowywanie\n",
    "- Zaczynamy tak samo, jak przy szyfrowaniu, dzieląc szyfrogram na 2-literowe bloki,\n",
    "- Wykonujemy operacje odwrotne, niż przy szyfrowaniu:\n",
    "  - jeżeli litery znajdują się w tym samym wierszu, zastępujemy je odpowiednio przez ich sąsiadów z lewej strony (pamiętając, że gdy jedna z liter jest w pierwszej kolumnie, bierzemy literę z ostatniej kolumny),\n",
    "  - jeżeli litery są w tej samej kolumnie, zastępujemy je literami, które znajdują się 1 wiersz nad nimi (jak jedna z liter jest w pierwszym wierszu, bierzemy literę z ostatniego wiersza),\n",
    "  - jeżeli litery z pary nie są ani w jednym wierszu ani w jednej kolumnie, postępujemy identycznie jak przy szyfrowaniu,\n",
    "- Otrzymane pary łączymy w ciąg tekstowy, otrzymując tekst jawny."
   ]
  },
  {
   "cell_type": "markdown",
   "metadata": {},
   "source": [
    "https://www.wikiwand.com/en/Playfair_cipher"
   ]
  },
  {
   "cell_type": "code",
   "execution_count": 359,
   "metadata": {},
   "outputs": [],
   "source": [
    "class Playfair:\n",
    "  alphabet = \"abcdefghijklmnopqrstuvwxyz\"\n",
    "\n",
    "  def __init__(self, key):\n",
    "    self.table = [[''] * 5 for _ in range(5)]\n",
    "    self.key = key.lower()\n",
    "    self.__fill_table()\n",
    "    self.coordinates = self.__get_coordinates()\n",
    "\n",
    "  def encrypt(self, message):\n",
    "    # Divide the message into pairs of 2 different letters\n",
    "    pairs = self.__split_into_pairs(message)\n",
    "    return ''.join(self.__encrypt_pair(pair) for pair in pairs)\n",
    "\n",
    "  def decrypt(self, cipher):\n",
    "    pairs = self.__split_into_pairs(cipher)\n",
    "    return ''.join(self.__decrypt_pair(pair) for pair in pairs)\n",
    "\n",
    "  def __split_into_pairs(self, message):\n",
    "    pairs = []\n",
    "    for i in range(0, len(message), 2):\n",
    "      left = message[i]\n",
    "      right = message[i + 1] if i < len(message) - 1 and message[i + 1] != message[i] else 'x'\n",
    "      pairs.append(left + right)\n",
    "    return pairs\n",
    "\n",
    "  def __fill_table(self):\n",
    "    used_letters = set()\n",
    "\n",
    "    def is_used(letter):\n",
    "      return letter in used_letters \\\n",
    "          or letter == 'i' and 'j' in used_letters \\\n",
    "          or letter == 'j' and 'i' in used_letters\n",
    "\n",
    "    def put_letter(letter, idx):\n",
    "      self.table[idx // 5][idx % 5] = letter\n",
    "      used_letters.add(letter)\n",
    "    \n",
    "    i = 0\n",
    "    for letter in self.key:\n",
    "      if is_used(letter): continue\n",
    "      put_letter(letter, i)\n",
    "      i += 1\n",
    "    \n",
    "    for letter in self.alphabet:\n",
    "      if is_used(letter): continue\n",
    "      put_letter(letter, i)\n",
    "      i += 1\n",
    "\n",
    "  def __get_coordinates(self):\n",
    "    coordinates = {}\n",
    "\n",
    "    for i in range(5):\n",
    "      for j in range(5):\n",
    "        coordinates[self.table[i][j]] = (i, j)\n",
    "\n",
    "    coordinates['j'] = coordinates['i']\n",
    "    coordinates['i'] = coordinates['j']\n",
    "\n",
    "    return coordinates\n",
    "\n",
    "  def __encrypt_pair(self, pair):\n",
    "    r1, c1 = self.coordinates[pair[0]]\n",
    "    r2, c2 = self.coordinates[pair[1]]\n",
    "\n",
    "    # If the letters appear on the same row of your table, replace them with the letters to their immediate right respectively (wrapping around to the left side of the row if a letter in the original pair was on the right side of the row)\n",
    "    if r1 == r2:\n",
    "      return self.table[r1][(c1 + 1) % 5] + self.table[r1][(c2 + 1) % 5]\n",
    "    # If the letters appear on the same column of your table, replace them with the letters immediately below respectively (wrapping around to the top side of the column if a letter in the original pair was on the bottom side of the column)\n",
    "    if c1 == c2:\n",
    "      return self.table[(r1 + 1) % 5][c1] + self.table[(r2 + 1) % 5][c1]\n",
    "    # If the letters are not on the same row or column, replace them with the letters on the same row respectively but at the other pair of corners of the rectangle defined by the original pair.\n",
    "    return self.table[r1][c2] + self.table[r2][c1]\n",
    "\n",
    "  def __decrypt_pair(self, pair):\n",
    "    r1, c1 = self.coordinates[pair[0]]\n",
    "    r2, c2 = self.coordinates[pair[1]]\n",
    "\n",
    "    if r1 == r2:\n",
    "      return self.table[r1][(c1 - 1) % 5] + self.table[r1][(c2 - 1) % 5]\n",
    "    if c1 == c2:\n",
    "      return self.table[(r1 - 1) % 5][c1] + self.table[(r2 - 1) % 5][c1]\n",
    "    return self.table[r1][c2] + self.table[r2][c1]"
   ]
  },
  {
   "cell_type": "code",
   "execution_count": 360,
   "metadata": {},
   "outputs": [
    {
     "name": "stdout",
     "output_type": "stream",
     "text": [
      "Encrypted: esepvprkyvepovesnh\n",
      "Decrypted: moiatainawiadomosc\n"
     ]
    }
   ],
   "source": [
    "key = \"playfairexample\"\n",
    "plain_text = \"mojatajnawiadomosc\"\n",
    "\n",
    "playfair = Playfair(key)\n",
    "\n",
    "encrypted = playfair.encrypt(plain_text)\n",
    "decrypted = playfair.decrypt(encrypted)\n",
    "\n",
    "print(\"Encrypted:\", encrypted)\n",
    "print(\"Decrypted:\", decrypted)"
   ]
  },
  {
   "cell_type": "markdown",
   "metadata": {},
   "source": [
    "### Szyfr Lorenza"
   ]
  },
  {
   "cell_type": "markdown",
   "metadata": {},
   "source": [
    "##### Opis\n",
    "- Szyfr Lorenza jest trudniejszy do złamania niż szyfr Enigma,\n",
    "- Maszyna Lorenza jest zbudowana, podobnie do Enigmy, z wirników, które działają w inny niż w Enigmie sposób,\n",
    "\n",
    "##### Szyfrowanie\n",
    "- Każda z liter, znajdujących się na klawiaturze, była przekształcana na odpowiadający jej ciąg bitowy (najczęściej kod Baudot, składający się z 5 bitów),\n",
    "- Wprowadzenie litery powodowało wygenerowaniu pseudolosowego ciągu bitów (jeżeli litery kodujemy 5-bitowym ciągiem Baudot, otrzymywaliśmy 5-bitowy ciąg pseudolosowych bitów). Ciąg ten był generowany poprzez obrót 5 wirników (rotorów),\n",
    "- Następnie, wykorzystywano szyfrowanie Vernama, czyli wykonywano operację `XOR` na 5-bitowym ciągu, odpowiadającym kodowanej literze z tekstu jawnego oraz 5-bitowym ciągu pseudolosowym,\n",
    "- Tak otrzymany ciąg bitów, zamieniano z powrotem na literę, której on odpowiada (zgodnie z wykorzystywanym kodowaniem, np. kodowaniem Baudot), wszystkie zaszyfrowane litery łączono i otrzymywano szyfrogram,\n",
    "\n",
    "##### Odszyfrowywanie\n",
    "- Odszyfrowywanie działało identycznie jak szyfrowanie (wykonanie operacji `XOR` na kolejnych ciągach 5-bitowych, z wykorzystaniem tych samych ciągów pseudolosowych, co podczas szyfrowania, skutkowało otrzymaniem ciągów 5-bitowych z tekstu jawnego),\n",
    "- Aby móc odszyfrować wiadomość, trzeba było posiadać taką samą konfigurację początkową maszyny Lorenza, a więc mieć taki sam zestaw tak samo ustawionych wirników. Takie same ustawienia początkowe gwarantowały, że maszyna wygeneruje ten sam ciąg liczb pseudolosowych, co pozwoli na odszyfrowanie wiadomości.\n",
    "\n",
    "##### Opis implementacji\n",
    "- Umieszczona niżej implementacja jest implementacją uproszczoną, pomijającą działanie generatora liczb pseudolosowych w maszynie Lorenza. Do wygenerowania kolejnych liczb pseudolosowych, wykorzystałem bibliotekę `random`, ustawiając taki sam `seed` (ziarno) podczas szyfrowania i odszyfrowywania wiadomości,\n",
    "- Ustawienie ziarna odpowiada ustawieniu takiej samej konfiguracji maszyny przed rozpoczęciem odszyfrowywania jak konfiguracja, jaką mieliśmy przed rozpoczęciem szyfrowania."
   ]
  },
  {
   "cell_type": "code",
   "execution_count": 361,
   "metadata": {},
   "outputs": [],
   "source": [
    "import random\n",
    "\n",
    "class Lorenz:\n",
    "  # Baudot-Murray codes\n",
    "  codes = { \n",
    "    'a': '00011', \n",
    "    'b': '11001',\n",
    "    'c': '01110',\n",
    "    'd': '01001',\n",
    "    'e': '00001',\n",
    "    'f': '01101',\n",
    "    'g': '11010',\n",
    "    'h': '10100',\n",
    "    'i': '00110',\n",
    "    'j': '01011',\n",
    "    'k': '01111',\n",
    "    'l': '10010',\n",
    "    'm': '11100',\n",
    "    'n': '01100',\n",
    "    'o': '11000',\n",
    "    'p': '10110',\n",
    "    'q': '10111',\n",
    "    'r': '01010',\n",
    "    's': '00101',\n",
    "    't': '10000',\n",
    "    'u': '00111',\n",
    "    'v': '11110',\n",
    "    'w': '10011',\n",
    "    'x': '11101',\n",
    "    'y': '10101',\n",
    "    'z': '10001',\n",
    "    ' ': '00100',\n",
    "    'N': '00000',\n",
    "    'C': '01000',\n",
    "    'L': '00010',\n",
    "    'F': '11011',\n",
    "    'T': '11111'\n",
    "  }\n",
    "\n",
    "  def __init__(self):\n",
    "    self.random = random.Random(0)\n",
    "\n",
    "  def set_key(self, key):\n",
    "    self.random = random.Random(key)\n",
    "\n",
    "  def encrypt(self, message):\n",
    "    return self.__run(message)\n",
    "\n",
    "  def decrypt(self, cipher):\n",
    "    return self.__run(cipher)\n",
    "\n",
    "  def __run(self, text):\n",
    "    # The Lorenz machine used a complicated system of rotors to generate\n",
    "    # subsequent pseudorandom numbers. To simulate this behavior, we can\n",
    "    # simply use the Python random function which will generate a pseudorandom\n",
    "    # number and choose the corresponding character used as a bit stream to\n",
    "    # encode a particular letter from the message to encrypt\n",
    "    characters = list(self.codes.keys())\n",
    "    binary = list(self.codes.values())\n",
    "    key_stream = ''.join(self.random.choice(characters) for _ in range(len(message)))\n",
    "    indices = [int(self.codes[letter], 2) ^ int(self.codes[key], 2) for letter, key in zip(text, key_stream)]\n",
    "    return ''.join(characters[binary.index(f\"{i:#07b}\"[2:])] for i in indices)"
   ]
  },
  {
   "cell_type": "code",
   "execution_count": 362,
   "metadata": {},
   "outputs": [
    {
     "name": "stdout",
     "output_type": "stream",
     "text": [
      "Encrypted: yTdejh hcgycaFxnc\n",
      "Decrypted: my secret message\n"
     ]
    }
   ],
   "source": [
    "plain_text = \"my secret message\"\n",
    "\n",
    "lorenz = Lorenz()\n",
    "\n",
    "lorenz.set_key(123)\n",
    "encrypted = lorenz.encrypt(plain_text)\n",
    "lorenz.set_key(123)\n",
    "decrypted = lorenz.decrypt(encrypted)\n",
    "\n",
    "print(\"Encrypted:\", encrypted)\n",
    "print(\"Decrypted:\", decrypted)"
   ]
  }
 ],
 "metadata": {
  "kernelspec": {
   "display_name": "Python 3 (ipykernel)",
   "language": "python",
   "name": "python3"
  },
  "language_info": {
   "codemirror_mode": {
    "name": "ipython",
    "version": 3
   },
   "file_extension": ".py",
   "mimetype": "text/x-python",
   "name": "python",
   "nbconvert_exporter": "python",
   "pygments_lexer": "ipython3",
   "version": "3.9.12"
  },
  "vscode": {
   "interpreter": {
    "hash": "1256f0751b106b96a3a401deb144b87628772bb557f0194d9b545663fb3d542c"
   }
  }
 },
 "nbformat": 4,
 "nbformat_minor": 1
}
