{
 "cells": [
  {
   "cell_type": "markdown",
   "metadata": {},
   "source": [
    "# Kryptografia klasyczna (od starożytności do czasów współczesnych)\n",
    "### Literatura:\n",
    "1. Księga szyfrów, Simon Singh, Świat książki, 2001\n",
    "2. Łamacze kodów, David Kahn, WNT, 2004"
   ]
  },
  {
   "cell_type": "markdown",
   "metadata": {},
   "source": [
    "## Szyfr Cezara\n",
    "--------------\n",
    "Szyfr Cezara oczywiście nie zawdzięcza swego istnienia Juliuszowi Cezarowi. Został przezeń jedynie wspomniany w pamiętnikach o wojnach galijskich. Prawdopodobnie była to dobrze znana metoda w tym czasie."
   ]
  },
  {
   "cell_type": "code",
   "execution_count": 87,
   "metadata": {},
   "outputs": [
    {
     "name": "stdout",
     "output_type": "stream",
     "text": [
      "Tekst jawny:  Zorro fly zealotry zipper\n",
      "Szyfrogram:  odggduanotpadignoxeetg (spacje usunięte)\n",
      "Odszyfrowana wiadomość:  zorroflyzealotryzipper (spacje usunięte)\n"
     ]
    }
   ],
   "source": [
    "# Alfabet jawny i szyfrowy \n",
    "alphabets = ['a','b', 'c', 'd', 'e', 'f', 'g', 'h', 'i', 'j', 'k', 'l', 'm', 'n', 'o', 'p',\n",
    "            'q', 'r', 's', 't', 'u', 'v', 'w', 'x', 'y', 'z']\n",
    "\n",
    "alphabet_size = 26\n",
    "\n",
    "plaintext = \"Zorro fly zealotry zipper\"\n",
    "\n",
    "ciphertext = \"\"\n",
    "\n",
    "key = 15 #przesunięcie permutacji czyli klucz szyfrowania \n",
    "\n",
    "print(\"Tekst jawny: \", plaintext)\n",
    "\n",
    "for text in plaintext.lower().split():\n",
    "    for char in text:\n",
    "        ciphertext = ciphertext + alphabets[(alphabets.index(char) + key) % alphabet_size] \n",
    "print(\"Szyfrogram: \",  ciphertext, \"(spacje usunięte)\")\n",
    "\n",
    "decodedtext = \"\"\n",
    "for text in ciphertext:\n",
    "    for char in text:\n",
    "        decodedtext = decodedtext + alphabets[(alphabets.index(char)- key) % alphabet_size]\n",
    "print(\"Odszyfrowana wiadomość: \",  decodedtext,  \"(spacje usunięte)\")"
   ]
  },
  {
   "cell_type": "markdown",
   "metadata": {},
   "source": [
    "## Szyfr monoalfabetyczny: \n",
    "_danemu symbolowi alfabetu jawnego odpowiada dokładnie jeden i ten sam symbol alfabetu tajnego._"
   ]
  },
  {
   "attachments": {},
   "cell_type": "markdown",
   "metadata": {},
   "source": [
    "### Zastanów się:\n",
    "##### 1. Czy szyfr Cezara jest łatwy do złamania? Ile prób (testów przesunięć) trzeba aby złamać szyfr Cezara?\n",
    "**Odp:** Potrzeba tyle prób, ile liter ma alfabet, przy pomocy którego zapisana została wiadomość. Jest tak dlatego, że w szyfrze Cezara każda litera zaszyfrowanej wiadomości jest przesunięta o tyle samo pozycji w alfabecie. Wystarczy więc sprawdzić wszystkie możliwe przesunięcia, a jest ich tyle, co liter w alfabecie (dla przesunięcia wynoszącego 0, zaszyfrowana wiadomość jest taka sama jak wiadomość wyjściowa).\n",
    "\n",
    "<br>\n",
    "\n",
    "##### 2. Co to jest atak siłowy (__brute force__)? \n",
    "**Odp:** Jest to atak, w którym sprawdzane są wszystkie możliwości. W przypadku szyfru Cezara, atak brute force polegałby na sprawdzeniu wszystkich możliwych przesunięć liter alfabetu.\n",
    "\n",
    "<br>\n",
    "\n",
    "##### 3. Zaproponuj i zaimplementuj wariant szyfru Cezara, która wymaga wykonania większej liczby prób podczas ataku?  \n",
    "**Odp 1:** Szyfr Cezara z zastosowaniem klucza, określającego przesunięcie o inną różne przesunięcie dla kolejnych liter szyfrowanej wiadomości.\n",
    "\n",
    "**Odp 2:** Szyfr Vinegere'a - wykorzystywana jest tablica kwadratowa, w której każdy wiersz zawiera kolejne litery alfabetu przesunięte o inną ilość pozycji (w każdym kolejnym wierszu litery są przesunięte o 1 pozycję w lewo względem poprzedniego). Potrzebny jest klucz (tym razem klucz jest tekstem, zbudowanym przy pomocy tego samego alfabetu, co szyfrowana wiadomość) o długości równej długości szyfrowanej wiadomości. Następnie, dla kolejnych par liter, stojących na odpowiednio tych samych pozycjach szyfrowanej wiadomości i klucza, wyznaczana jest litera z tablicy, jako przecięcie kolumny, wyznaczonej przy pomocy litery z szyfrowanego tekstu i wiersza, wyznaczonego przy pomocy litery z klucza.\n",
    "\n",
    "<img src=\"https://upload.wikimedia.org/wikipedia/commons/thumb/9/9a/Vigen%C3%A8re_square_shading.svg/800px-Vigen%C3%A8re_square_shading.svg.png?1665846425974\" width=\"500px\" />\n",
    "\n",
    "Aby odszyfrować wiadomość, trzeba znaleźć wiersz, który odpowiada danej literze klucza, przy pomocy którego zaszyfrowana została wiadomość. Następnie, w tym wierszu należy znaleźć położenie litery z zaszyfrowanej wiadomości, stojącej na tej samej pozycji, co litera z klucza, odpowiadająca danemu wierszowi. Litera przypisana kolumnie, w której znajduje się znaleziona litera z zaszyfrowanej wiadomości, odpowiada literze z wyjściowej wiadomości (tej, która została zaszyfrowana).\n",
    "\n",
    "<br>\n",
    "\n",
    "##### 4. Oceń koszt ataku na ten wariant Cezara.\n",
    "**Odp 1:** W przypadku pierwszego wariantu, w którym korzystamy tylko z różnego przesunięcia dla kolejnych liter alfabetu, konieczne będzie wykonanie $L^n$ prób, gdzie $L$ - jest długością alfabetu, a $n$ - długością szyfrowanej wiadomości.\n",
    "\n",
    "**Odp 2:** Koszt jest taki sam, jak w poprzednim algorytmie, ponieważ konieczne jest sprawdzenie wszystkich możliwych kluczy, a na każdej pozcyji klucza może znajdować się jedna z liter alfabetu."
   ]
  },
  {
   "cell_type": "markdown",
   "metadata": {},
   "source": [
    "#### Rozwiązania implementacyjne"
   ]
  },
  {
   "cell_type": "markdown",
   "metadata": {},
   "source": [
    "**Odp 1:** Szyfr Cezara z $n$-elementowym kluczem"
   ]
  },
  {
   "cell_type": "code",
   "execution_count": 88,
   "metadata": {},
   "outputs": [],
   "source": [
    "alphabet = \"abcdefghijklmnopqrstuvwxyz\"\n",
    "\n",
    "def caesar_init(alphabet):\n",
    "    positions = { k: i for i, k in enumerate(alphabet) }\n",
    "    \n",
    "    def encrypt(text, key):\n",
    "        result = []\n",
    "        for i, char in enumerate(text):\n",
    "            offset = key[i % len(key)]\n",
    "            if char in positions:\n",
    "                result.append(alphabet[(positions[char] + offset) % len(alphabet)])\n",
    "            else:\n",
    "                result.append(char)\n",
    "        return ''.join(result)\n",
    "            \n",
    "    def decrypt(encrypted_text, key):\n",
    "        result = []\n",
    "        for i, char in enumerate(encrypted_text):\n",
    "            offset = key[i % len(key)]\n",
    "            if char in positions:\n",
    "                result.append(alphabet[positions[char] - offset])\n",
    "            else:\n",
    "                result.append(char)\n",
    "        return ''.join(result)\n",
    "        \n",
    "    return encrypt, decrypt\n",
    "\n",
    "encrypt, decrypt = caesar_init(alphabet)"
   ]
  },
  {
   "cell_type": "code",
   "execution_count": 89,
   "metadata": {},
   "outputs": [
    {
     "name": "stdout",
     "output_type": "stream",
     "text": [
      "Encrypted: bqi il bqaa\n",
      "Decrypted: ala ma kota\n",
      "Is ok?: True\n"
     ]
    }
   ],
   "source": [
    "plain_text = 'ala ma kota'\n",
    "key = [1, 5, 8, 4, 22, 11, 14, 17, 2, 7, 0]\n",
    "\n",
    "encrypted = encrypt(plain_text, key)\n",
    "decrypted = decrypt(encrypted, key)\n",
    "\n",
    "print('Encrypted:', encrypted)\n",
    "print('Decrypted:', decrypted)\n",
    "print('Is ok?:', plain_text == decrypted)"
   ]
  },
  {
   "cell_type": "markdown",
   "metadata": {},
   "source": [
    "**Odp 2:** Szyfr Vinegere'a"
   ]
  },
  {
   "cell_type": "code",
   "execution_count": 90,
   "metadata": {},
   "outputs": [],
   "source": [
    "alphabet = \"abcdefghijklmnopqrstuvwxyz\"\n",
    "\n",
    "def vinegere_init(alphabet):\n",
    "    positions = { k: i for i, k in enumerate(alphabet) }\n",
    "    \n",
    "    def encrypt(text, key):\n",
    "        result = []\n",
    "        for i, char in enumerate(text):\n",
    "            offset = positions[key[i % len(key)]]\n",
    "            if char in positions:\n",
    "                result.append(alphabet[(positions[char] + offset) % len(alphabet)])\n",
    "            else:\n",
    "                result.append(char)\n",
    "        return ''.join(result)\n",
    "            \n",
    "    def decrypt(encrypted_text, key):\n",
    "        result = []\n",
    "        for i, char in enumerate(encrypted_text):\n",
    "            offset = positions[key[i % len(key)]]\n",
    "            if char in positions:\n",
    "                result.append(alphabet[positions[char] - offset])\n",
    "            else:\n",
    "                result.append(char)\n",
    "        return ''.join(result)\n",
    "        \n",
    "    return encrypt, decrypt\n",
    "\n",
    "encrypt, decrypt = vinegere_init(alphabet)"
   ]
  },
  {
   "cell_type": "code",
   "execution_count": 91,
   "metadata": {},
   "outputs": [
    {
     "name": "stdout",
     "output_type": "stream",
     "text": [
      "Encrypted: pte ya vsii\n",
      "Decrypted: ala ma kota\n",
      "Is ok?: True\n"
     ]
    }
   ],
   "source": [
    "plain_text = 'ala ma kota'\n",
    "key = \"piesmaale\"\n",
    "\n",
    "encrypted = encrypt(plain_text, key)\n",
    "decrypted = decrypt(encrypted, key)\n",
    "\n",
    "print('Encrypted:', encrypted)\n",
    "print('Decrypted:', decrypted)\n",
    "print('Is ok?:', plain_text == decrypted)"
   ]
  },
  {
   "cell_type": "markdown",
   "metadata": {},
   "source": [
    "### Zadanie samodzielne dla studentów\n",
    "1. Napisz ,,ulepszony szyfr Cezara'' czyli monoalfabetyczny szyfr z tajną pemutacją alfabetu szyfrowego\n",
    "2. Można wykorzystać funkcję random.permutation() z biblioteki numpy"
   ]
  },
  {
   "cell_type": "code",
   "execution_count": 92,
   "metadata": {},
   "outputs": [
    {
     "name": "stdout",
     "output_type": "stream",
     "text": [
      "Encrypted: hsvvs ryk hzqysovk hniizv\n",
      "Decrypted: zorro fly zealotry zipper\n",
      "Is ok?: True\n"
     ]
    }
   ],
   "source": [
    "# lepszy Cezar\n",
    "# Wyjaśnienie, czym są szyfry permutacyjne: https://www.youtube.com/watch?v=tgWr-PS4UIU\n",
    "import numpy as np\n",
    "\n",
    "alphabet = \"abcdefghijklmnopqrstuvwxyz\"\n",
    "\n",
    "def permutation_caesar_init(alphabet):\n",
    "    secret_alphabet = ''.join(np.random.permutation(list(alphabet)))\n",
    "    positions = { k: i for i, k in enumerate(secret_alphabet) }\n",
    "    \n",
    "    def encrypt(text, key):\n",
    "        return ''.join([secret_alphabet[(positions[char] + key) % len(alphabet)] \n",
    "                        if char in positions else char for char in text])\n",
    "            \n",
    "    def decrypt(encrypted_text, key):\n",
    "        return ''.join([secret_alphabet[(positions[char] - key)] \n",
    "                        if char in positions else char for char in encrypted_text])\n",
    "    \n",
    "    return encrypt, decrypt\n",
    "\n",
    "encrypt, decrypt = permutation_caesar_init(alphabet)\n",
    "\n",
    "plain_text = \"zorro fly zealotry zipper\"\n",
    "key = 3\n",
    "\n",
    "encrypted = encrypt(plain_text, key)\n",
    "decrypted = decrypt(encrypted, key)\n",
    "\n",
    "print('Encrypted:', encrypted)\n",
    "print('Decrypted:', decrypted)\n",
    "print('Is ok?:', plain_text == decrypted)"
   ]
  },
  {
   "cell_type": "markdown",
   "metadata": {},
   "source": [
    "## Kryptoanaliza szyfrów monoalfabetycznych\n",
    "\n",
    "Współcześnie kryptoanaliza szyfru Cezara jest trywialna. Można po prostu sprawdzić wszystkie 26 możliwych przesunięć. \n",
    "\n",
    "Szyfry monoalfabetyczne nie są także odporne na __kryptoanalizę statystyczną__. Znając rozkład częstości liter w tekstach napisanych w danym języku możemy odgadnąć przesunięcie obserwując minima i maxima w histogramach. \n",
    "\n",
    "W zasadzie kluczową sprawą w obu przypadkach jest znajomość języka, a w gruncie rzeczy alfabetu. "
   ]
  },
  {
   "cell_type": "markdown",
   "metadata": {},
   "source": [
    "### Zadanie samodzielne dla studentów\n",
    "1. Narysuj rozkład częstości występowania liter w języku angielskim (kod rysowania histogramu poniżej)"
   ]
  },
  {
   "cell_type": "code",
   "execution_count": 93,
   "metadata": {},
   "outputs": [
    {
     "data": {
      "image/png": "[encoded data removed]",
      "text/plain": [
       "<Figure size 1080x648 with 1 Axes>"
      ]
     },
     "metadata": {
      "needs_background": "light"
     },
     "output_type": "display_data"
    }
   ],
   "source": [
    "from matplotlib import pyplot as plt\n",
    "import numpy as np\n",
    "\n",
    "letters =   ['a',  'b',    'c',   'd',  'e',   'f',   'g',   'h',   'i',   'j',   'k',   'l',    'm',  'n',   'o',   'p',    'q',  'r',   's',   't',   'u',   'v',   'w',   'x',    'y',   'z']\n",
    "frequency = [0.080, 0.015, 0.030, 0.040, 0.130, 0.020, 0.015, 0.060, 0.065, 0.005, 0.005, 0.035, 0.030, 0.070, 0.080, 0.020, 0.002, 0.065, 0.060, 0.090, 0.030, 0.010, 0.015, 0.005, 0.020, 0.002]\n",
    "labels = np.arange(len(letters))\n",
    "plt.figure(figsize=(15,9))\n",
    "plt.bar(labels, frequency, alpha=0.5, edgecolor=\"green\")\n",
    "plt.xlabel('Alfabet')\n",
    "plt.xticks(np.arange(26), ('a','b', 'c', 'd', 'e', 'f', 'g', 'h', 'i', 'j', 'k', 'l', 'm', 'n', 'o', 'p', 'q', 'r', 's', 't', 'u', 'v', 'w', 'x', 'y', 'z'))\n",
    "plt.title(\"Język angielski\");\n",
    "plt.ylabel('Częstość występowania')\n",
    "plt.show()"
   ]
  },
  {
   "cell_type": "markdown",
   "metadata": {},
   "source": [
    "2. Dokonaj analizy częstości występowania liter w tekście jawnym i szyfrogramie (szyfr Cezara z dowolnym przesunięciem) dla tekstu w poniższym fragmencie kodu. Wyświetl wyniki podobnie jak powyżej. "
   ]
  },
  {
   "cell_type": "code",
   "execution_count": 99,
   "metadata": {
    "scrolled": true
   },
   "outputs": [],
   "source": [
    "import numpy as np\n",
    "from matplotlib import pyplot as plt\n",
    "\n",
    "plain_text = \"TobeornottobethatisthequestionWhethertisNoblerinthemindtosufferTheSlingsandArrowsofoutrageousFortuneOrtotakeArmsagainstaSeaoftroublesAndbyopposingendthem\"\n",
    "\n",
    "alphabet = [\n",
    "    'a','b','c','d','e','f','g','h','i','j','k','l','m',\n",
    "    'n','o','p','q','r','s','t','u','v','w','x','y','z'\n",
    "]\n",
    "\n",
    "# policz częstość i wyświetl rozkłady\n",
    "from collections import defaultdict\n",
    "\n",
    "def count_frequency(text):\n",
    "    counts = defaultdict(int)\n",
    "    for char in text:\n",
    "        counts[char] += 1\n",
    "    return dict(counts)\n",
    "\n",
    "def caesar_init(alphabet):\n",
    "    positions = { k: i for i, k in enumerate(alphabet) }\n",
    "    \n",
    "    def encrypt(text, key):\n",
    "        return ''.join([alphabet[(positions[char] + key) % len(alphabet)] \n",
    "                        if char in positions else char\n",
    "                        for char in text.lower()])\n",
    "            \n",
    "    def decrypt(encrypted_text, key):\n",
    "                return ''.join([alphabet[(positions[char] - key) % len(alphabet)] \n",
    "                        if char in positions else char\n",
    "                        for char in text])\n",
    "        \n",
    "    return encrypt, decrypt\n",
    "\n",
    "def draw_frequency_chart(text, alphabet):\n",
    "    counts = count_frequency(text)\n",
    "    frequencies = [counts[letter] if letter in counts else 0 for letter in alphabet]\n",
    "    labels = np.arange(len(alphabet))\n",
    "    plt.figure(figsize=(15,9))\n",
    "    plt.bar(labels, frequencies, alpha=0.5, edgecolor=\"green\")\n",
    "    plt.xlabel('Alfabet')\n",
    "    plt.xticks(np.arange(len(alphabet)), alphabet)\n",
    "    plt.title(\"Język angielski\");\n",
    "    plt.ylabel('Częstość występowania')\n",
    "    plt.show()"
   ]
  },
  {
   "cell_type": "code",
   "execution_count": 126,
   "metadata": {},
   "outputs": [
    {
     "name": "stdout",
     "output_type": "stream",
     "text": [
      "Plain text:     TobeornottobethatisthequestionWhethertisNoblerinthemindtosufferTheSlingsandArrowsofoutrageousFortuneOrtotakeArmsagainstaSeaoftroublesAndbyopposingendthem\n"
     ]
    },
    {
     "data": {
      "image/png": "[encoded data removed]",
      "text/plain": [
       "<Figure size 1080x648 with 1 Axes>"
      ]
     },
     "metadata": {
      "needs_background": "light"
     },
     "output_type": "display_data"
    }
   ],
   "source": [
    "plain_text_lower = plain_text.lower()\n",
    "print('Plain text:    ', plain_text)\n",
    "draw_frequency_chart(plain_text_lower, alphabet)"
   ]
  },
  {
   "cell_type": "code",
   "execution_count": 127,
   "metadata": {},
   "outputs": [
    {
     "name": "stdout",
     "output_type": "stream",
     "text": [
      "Encrypted text: wrehruqrwwrehwkdwlvwkhtxhvwlrqzkhwkhuwlvqreohulqwkhplqgwrvxiihuwkhvolqjvdqgduurzvrirxwudjhrxviruwxqhruwrwdnhdupvdjdlqvwdvhdriwurxeohvdqgebrssrvlqjhqgwkhp\n"
     ]
    },
    {
     "data": {
      "image/png": "[encoded data removed]",
      "text/plain": [
       "<Figure size 1080x648 with 1 Axes>"
      ]
     },
     "metadata": {
      "needs_background": "light"
     },
     "output_type": "display_data"
    }
   ],
   "source": [
    "encrypt, decrypt = caesar_init(alphabet)\n",
    "key = 3\n",
    "encrypted_text = encrypt(plain_text_lower, key)\n",
    "print('Encrypted text:', encrypted_text)\n",
    "draw_frequency_chart(encrypted_text, alphabet)"
   ]
  },
  {
   "cell_type": "markdown",
   "metadata": {},
   "source": [
    "3. Dokonaj analizy częstości występowania liter w szyfrogramie wygenerowanym przez \"ulepszonego Cezara\""
   ]
  },
  {
   "cell_type": "code",
   "execution_count": 143,
   "metadata": {},
   "outputs": [
    {
     "name": "stdout",
     "output_type": "stream",
     "text": [
      "Encrypted text: dkqfkjbkddkqfdtvdaidtfhlfidakbgtfdtfjdaibkqcfjabdtfrabzdkilmmfjdtficabsivbzvjjkgikmkldjvsfklimkjdlbfkjdkdvefvjrivsvabidvifvkmdjklqcfivbzqwknnkiabsfbzdtfr\n"
     ]
    },
    {
     "data": {
      "image/png": "[encoded data removed]",
      "text/plain": [
       "<Figure size 1080x648 with 1 Axes>"
      ]
     },
     "metadata": {
      "needs_background": "light"
     },
     "output_type": "display_data"
    }
   ],
   "source": [
    "encrypt, decrypt = permutation_caesar_init(alphabet)\n",
    "key = 3\n",
    "encrypted_text = encrypt(plain_text_lower, key)\n",
    "print('Encrypted text:', encrypted_text)\n",
    "draw_frequency_chart(encrypted_text, alphabet)"
   ]
  },
  {
   "cell_type": "markdown",
   "metadata": {},
   "source": [
    "### Ciekawostka: \n",
    "Automatyczna kryptoanaliza tekst zaszyfrowanego zwykłym Cezarem"
   ]
  },
  {
   "cell_type": "code",
   "execution_count": 144,
   "metadata": {},
   "outputs": [
    {
     "name": "stdout",
     "output_type": "stream",
     "text": [
      "Requirement already satisfied: nltk in /Users/mateu/opt/anaconda3/lib/python3.9/site-packages (3.7)\r\n",
      "Requirement already satisfied: regex>=2021.8.3 in /Users/mateu/opt/anaconda3/lib/python3.9/site-packages (from nltk) (2022.3.15)\r\n",
      "Requirement already satisfied: joblib in /Users/mateu/opt/anaconda3/lib/python3.9/site-packages (from nltk) (1.1.0)\r\n",
      "Requirement already satisfied: click in /Users/mateu/opt/anaconda3/lib/python3.9/site-packages (from nltk) (8.0.4)\r\n",
      "Requirement already satisfied: tqdm in /Users/mateu/opt/anaconda3/lib/python3.9/site-packages (from nltk) (4.64.0)\r\n"
     ]
    },
    {
     "name": "stderr",
     "output_type": "stream",
     "text": [
      "[nltk_data] Downloading package words to /Users/mateu/nltk_data...\n",
      "[nltk_data]   Unzipping corpora/words.zip.\n"
     ]
    },
    {
     "name": "stdout",
     "output_type": "stream",
     "text": [
      "Próba klucza:  25  .... pehhe\n",
      "Próba klucza:  10  .... etwwt\n",
      "Próba klucza:  2  .... mbeeb\n",
      "Próba klucza:  15  .... zorro\n",
      "\n",
      " Decoded string:  zorro\n"
     ]
    }
   ],
   "source": [
    "!pip install nltk \n",
    "import nltk\n",
    "nltk.download('words')\n",
    "from nltk.corpus import words\n",
    "\n",
    "\n",
    "unique = []\n",
    "frequency = []\n",
    "psi = []\n",
    "key = 0\n",
    "value = 0.0\n",
    "exit = True\n",
    "\n",
    "ciphertext = \"odggd\".lower()\n",
    "\n",
    "alphabets = \"abcdefghijklmnopqrstuvwxyz\"\n",
    "\n",
    "english_frequency_prob = [0.080, 0.015, 0.030, 0.040, 0.130, 0.020, 0.015, 0.060, 0.065, 0.005, \n",
    "                          0.005, 0.035, 0.030, 0.070, 0.080, 0.020, 0.002, 0.065, 0.060, 0.090, \n",
    "                          0.030, 0.010, 0.015, 0.005, 0.020, 0.002]\n",
    "\n",
    "\n",
    "\n",
    "for char in ciphertext: #lista liter w szyfrogramie\n",
    "    if (char not in unique) and (char.isalpha()):\n",
    "        unique.append(char)\n",
    "        \n",
    "only_alphabets = [char for char in ciphertext if char.isalpha()]  #tylko litery\n",
    "\n",
    "for unique_char in unique: #częstość liter w tekście \n",
    "     frequency.append(ciphertext.count(unique_char) / float(len(only_alphabets)))\n",
    "\n",
    "for i in range(0,26): #oblicz dopasowanie\n",
    "    for unique_char in unique:\n",
    "         value = value + frequency[unique.index(unique_char)] * english_frequency_prob[alphabets.index(unique_char) - i]\n",
    "    psi.append(value)  \n",
    "    value = 0.0\n",
    "    \n",
    "sorted_psi = psi[:] # sortuj dopasowanie\n",
    "sorted_psi.sort(reverse=True)\n",
    "\n",
    "decoded_string = \"\"\n",
    "for i in range(0, 26):\n",
    "    key = psi.index(sorted_psi[i])\n",
    "    decoded_string = \"\"\n",
    "    for char in ciphertext:\n",
    "        if (char != ' '):\n",
    "            decoded_string = decoded_string + alphabets[alphabets.index(char) - key]\n",
    "        else:\n",
    "            decoded_string = decoded_string + \" \"\n",
    "            \n",
    "    print(\"Próba klucza: \", key, \" ....\", decoded_string)\n",
    "    \n",
    "    for word in decoded_string.split():\n",
    "        if word not in words.words(): #czy szyfrowanie ma sens\n",
    "            exit = False\n",
    "        else:\n",
    "            exit = True\n",
    "    if exit:\n",
    "        break\n",
    "        \n",
    "print(\"\\n\", \"Decoded string: \", decoded_string)"
   ]
  },
  {
   "cell_type": "markdown",
   "metadata": {},
   "source": [
    "## Podsumowanie \n",
    "Główną słabością szyfrów monoalfabetycznych jest stałość przekształcenia, dzięki czemu możliwe jest łatwe zaobserwowanie regularności.\n",
    "\n",
    "Rozwiązaniem może być zmiana alfabetów w trakcie szyfrowania. Dla uproszczenia wystarczy zmieniać jedynie porządek liter. \n",
    "\n",
    "### Zadanie samodzielne dla studentów"
   ]
  },
  {
   "cell_type": "code",
   "execution_count": 148,
   "metadata": {},
   "outputs": [],
   "source": [
    "plain_text = \"TobeornottobethatisthequestionWhethertisNoblerinthemindtosufferTheSlingsandArrowsofoutrageousFortuneOrtotakeArmsagainstaSeaoftroublesAndbyopposingendthem\"\n",
    "key = \"klucz\""
   ]
  },
  {
   "cell_type": "markdown",
   "metadata": {},
   "source": [
    "1. Napisać program, który zmienia alfabet szyfrowania po każdej literze.\n",
    "_Co będzie potrzebne oprócz tekstu jawnego?_"
   ]
  },
  {
   "cell_type": "markdown",
   "metadata": {},
   "source": [
    "Przykładem takiego algorytmu jest algorytm Vigenere'a (implementacja wyżej). Poza tekstem jawnym, potrzebny jest klucz szyfrowania oraz znajomość relacji liter z szyfrowanego tekstu i klucza. W przypadku szyfru Vigenere'a, wykorzystuje się do tego celu tabelę (również opisana wcześniej)."
   ]
  },
  {
   "cell_type": "markdown",
   "metadata": {},
   "source": [
    "2. Dokonaj analizy częstościowej szyfrogramu zaszyfrowanego szyfrem Vigenera"
   ]
  },
  {
   "cell_type": "code",
   "execution_count": 152,
   "metadata": {},
   "outputs": [
    {
     "name": "stdout",
     "output_type": "stream",
     "text": [
      "Encrypted text: dzvgnbyivsymyvgkecusrpkwdcecqmgsyvgocnkrxzvndbthvgoxcpcdzmwepplvgodfkmqdupckclqvczzqtdcuidyfmhnbeopdycnqskvycqwduizsymvzcpuqedciwavpmcmnmsqozzmkmqphfsrpg\n"
     ]
    },
    {
     "data": {
      "image/png": "[encoded data removed]",
      "text/plain": [
       "<Figure size 1080x648 with 1 Axes>"
      ]
     },
     "metadata": {
      "needs_background": "light"
     },
     "output_type": "display_data"
    }
   ],
   "source": [
    "encrypt, decrypt = vinegere_init(alphabet)\n",
    "encrypted_text = encrypt(plain_text_lower, key)\n",
    "print('Encrypted text:', encrypted_text)\n",
    "draw_frequency_chart(encrypted_text, alphabet)"
   ]
  },
  {
   "cell_type": "markdown",
   "metadata": {},
   "source": [
    "### Zastanów się:\n",
    "1. Sprawdź jak wygląda histogram szyfrogramu.\n",
    "\n",
    "**Odp:** Inaczej niż histogram zaszyfrowanej wiadomości. Jego wygląd jest zależny od użytego algorytmu szyfrowania.\n",
    "\n",
    "2. Zastanów się jakie znaczenia ma długość klucza dla bezpieczeństwa szyfrowania.\n",
    "\n",
    "**Odp:** Im dłuższy klucz, tym zaszyfrowana wiadomość jest trudniejsza do odszyfrowania.\n",
    "\n",
    "3. Czy powtarzanie klucza można wykorzystać dla potrzeb kryptoanalizy?\n",
    "\n",
    "**Odp:** Największe bezpieczeństwo zapewnia klucz, który nie zawiera kilkukrotnie powtórzonych tych ciągów tych samych znaków. Powtarzanie klucza może być przydatne do zauważenia wad szyfru, dlatego można je wykorzystywać dla potrzeb kryptoanalizy.\n",
    "\n",
    "4. Jaki klucz gwarantowałby bezpieczeństwo?\n",
    "\n",
    "**Odp:** Taki, który nie zawiera wielu powtórzonych ciągów tych samych znaków.\n",
    "\n",
    "5. Jaki rozkład częstości symboli szyfrogramu nie ujawni żadnych przydatnych danych kryptoanalitykowi? \n",
    "\n",
    "**Odp:** Rozkład, w którym częstość występowania wszystkich liter jest taka sama. (? nie mam pewności)\n",
    "\n",
    "### Szyfr polialfabetyczny \n",
    "_Szyfr używający wielu alfabetów szyfrowych. W trakcie szyfrowania te same litery w tekście jawnym_\n",
    "\n",
    "### Szyfr doskonały (według Clouda Shannona):\n",
    "1. Jakie warunki musi spełniać szyfr-nie-do-złamania? \n",
    "- klucz użyty do szyfrowania wiadomości jest dłuższy lub tej samej długości, co szyfrowana wiadomość,\n",
    "- klucz jest wygenerowany w sposób całkowicie losowy (nie istnieje sposób na odtworzenie klucza na podstawie znajmości działania generatorów liczb pseudolosowych),\n",
    "- klucz nie może być użyty do zaszyfrowania więcej niż jednej wiadomości"
   ]
  },
  {
   "cell_type": "markdown",
   "metadata": {},
   "source": [
    "## Zadanie (dodatkowe, na ocenę)\n",
    "1. Napisz notebook jupyter, które implementuje klasyczne szyfry mechaniczne: Enigma, szyfr Playfair, szyfr maszyny Lorenza. W sieci można łatwo znaleźć gotowe kody, wiec przy ocenie zwracam uwagę no dokładne omówienie kodu, przejrzystość, komentarze etc. "
   ]
  },
  {
   "cell_type": "markdown",
   "metadata": {},
   "source": [
    "# TODO"
   ]
  }
 ],
 "metadata": {
  "kernelspec": {
   "display_name": "Python 3 (ipykernel)",
   "language": "python",
   "name": "python3"
  },
  "language_info": {
   "codemirror_mode": {
    "name": "ipython",
    "version": 3
   },
   "file_extension": ".py",
   "mimetype": "text/x-python",
   "name": "python",
   "nbconvert_exporter": "python",
   "pygments_lexer": "ipython3",
   "version": "3.9.12"
  }
 },
 "nbformat": 4,
 "nbformat_minor": 1
}
